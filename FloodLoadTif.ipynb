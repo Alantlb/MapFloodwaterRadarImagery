{
  "cells": [
    {
      "cell_type": "code",
      "execution_count": null,
      "metadata": {
        "colab": {
          "base_uri": "https://localhost:8080/"
        },
        "id": "fASDIL0tyUXK",
        "outputId": "43b26833-7b55-4a8e-93fd-e91b42af0d15"
      },
      "outputs": [
        {
          "name": "stdout",
          "output_type": "stream",
          "text": [
            "Mounted at /content/drive\n"
          ]
        }
      ],
      "source": [
        "from google.colab import drive\n",
        "drive.mount('/content/drive')"
      ]
    },
    {
      "cell_type": "code",
      "execution_count": null,
      "metadata": {
        "colab": {
          "base_uri": "https://localhost:8080/"
        },
        "id": "8HmQ8oZt7r4l",
        "outputId": "7a91fe50-33e6-4129-fceb-dca6cb95bd79"
      },
      "outputs": [
        {
          "name": "stdout",
          "output_type": "stream",
          "text": [
            "Collecting tensorflow-addons\n",
            "  Downloading tensorflow_addons-0.14.0-cp37-cp37m-manylinux_2_12_x86_64.manylinux2010_x86_64.whl (1.1 MB)\n",
            "\u001b[K     |████████████████████████████████| 1.1 MB 5.4 MB/s \n",
            "\u001b[?25hCollecting rasterio\n",
            "  Downloading rasterio-1.2.6-cp37-cp37m-manylinux1_x86_64.whl (19.3 MB)\n",
            "\u001b[K     |████████████████████████████████| 19.3 MB 104 kB/s \n",
            "\u001b[?25hCollecting runai\n",
            "  Downloading runai-0.4.1.tar.gz (18 kB)\n",
            "Requirement already satisfied: typeguard>=2.7 in /usr/local/lib/python3.7/dist-packages (from tensorflow-addons) (2.7.1)\n",
            "Collecting affine\n",
            "  Downloading affine-2.3.0-py2.py3-none-any.whl (15 kB)\n",
            "Requirement already satisfied: click>=4.0 in /usr/local/lib/python3.7/dist-packages (from rasterio) (7.1.2)\n",
            "Collecting click-plugins\n",
            "  Downloading click_plugins-1.1.1-py2.py3-none-any.whl (7.5 kB)\n",
            "Requirement already satisfied: numpy in /usr/local/lib/python3.7/dist-packages (from rasterio) (1.19.5)\n",
            "Collecting snuggs>=1.4.1\n",
            "  Downloading snuggs-1.4.7-py3-none-any.whl (5.4 kB)\n",
            "Requirement already satisfied: attrs in /usr/local/lib/python3.7/dist-packages (from rasterio) (21.2.0)\n",
            "Requirement already satisfied: certifi in /usr/local/lib/python3.7/dist-packages (from rasterio) (2021.5.30)\n",
            "Collecting cligj>=0.5\n",
            "  Downloading cligj-0.7.2-py3-none-any.whl (7.1 kB)\n",
            "Requirement already satisfied: setuptools in /usr/local/lib/python3.7/dist-packages (from rasterio) (57.4.0)\n",
            "Requirement already satisfied: pyparsing>=2.1.6 in /usr/local/lib/python3.7/dist-packages (from snuggs>=1.4.1->rasterio) (2.4.7)\n",
            "Building wheels for collected packages: runai\n",
            "  Building wheel for runai (setup.py) ... \u001b[?25l\u001b[?25hdone\n",
            "  Created wheel for runai: filename=runai-0.4.1-py3-none-any.whl size=29414 sha256=5689cd9c6bf22d08cc2c9ec8b1f99843d8bfb4e3b402e1e6833e4ef1e153f317\n",
            "  Stored in directory: /root/.cache/pip/wheels/b4/68/30/ea85428a56aba9aabb167a5e74b6e842dce955703bc3c43845\n",
            "Successfully built runai\n",
            "Installing collected packages: snuggs, cligj, click-plugins, affine, tensorflow-addons, runai, rasterio\n",
            "Successfully installed affine-2.3.0 click-plugins-1.1.1 cligj-0.7.2 rasterio-1.2.6 runai-0.4.1 snuggs-1.4.7 tensorflow-addons-0.14.0\n"
          ]
        }
      ],
      "source": [
        "!pip install tensorflow-addons rasterio runai"
      ]
    },
    {
      "cell_type": "code",
      "execution_count": null,
      "metadata": {
        "id": "KhcQWk-qyxV_"
      },
      "outputs": [],
      "source": [
        "import numpy as np\n",
        "import rasterio\n",
        "import os"
      ]
    },
    {
      "cell_type": "code",
      "execution_count": null,
      "metadata": {
        "id": "VBGTCGGjGzWp"
      },
      "outputs": [],
      "source": [
        "labels = []\n",
        "features = []\n",
        "\n",
        "labels_tif = os.listdir('/content/drive/MyDrive/Flood/train_labels')\n",
        "\n",
        "for label in labels_tif:\n",
        "\n",
        "  with rasterio.open(f'/content/drive/MyDrive/Flood/train_labels/{label}') as f:\n",
        "    labels.append(f.read(1, masked=True).data)\n",
        "\n",
        "  vv = label[:-4] + '_vv.tif'\n",
        "  vh = label[:-4] + '_vh.tif'\n",
        "\n",
        "  feature = []\n",
        "\n",
        "  with rasterio.open(f'/content/drive/MyDrive/Flood/train_features/{vv}') as f:\n",
        "    feature.append(f.read(1, masked=True).data)\n",
        "\n",
        "  with rasterio.open(f'/content/drive/MyDrive/Flood/train_features/{vh}') as f:\n",
        "    feature.append(f.read(1, masked=True).data)\n",
        "  \n",
        "  features.append(feature)\n",
        "\n",
        "labels = np.array(labels)\n",
        "features = np.array(features)\n",
        "\n",
        "features = features.transpose([0, 2, 3, 1])\n",
        "\n",
        "np.save('/content/drive/MyDrive/Flood/features', features)\n",
        "np.save('/content/drive/MyDrive/Flood/labels', labels)"
      ]
    }
  ],
  "metadata": {
    "accelerator": "GPU",
    "colab": {
      "collapsed_sections": [],
      "machine_shape": "hm",
      "provenance": []
    },
    "kernelspec": {
      "display_name": "Python 3.8.10 64-bit",
      "language": "python",
      "name": "python3"
    },
    "language_info": {
      "name": "python",
      "version": "3.8.10"
    },
    "vscode": {
      "interpreter": {
        "hash": "31f2aee4e71d21fbe5cf8b01ff0e069b9275f58929596ceb00d14d90e3e16cd6"
      }
    }
  },
  "nbformat": 4,
  "nbformat_minor": 0
}
